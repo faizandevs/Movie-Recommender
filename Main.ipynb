{
 "cells": [
  {
   "cell_type": "code",
   "execution_count": null,
   "id": "74f0c2d3",
   "metadata": {
    "id": "74f0c2d3"
   },
   "outputs": [],
   "source": [
    "#IMPORTS\n",
    "import pandas as pd\n",
    "from sentence_transformers import SentenceTransformer"
   ]
  },
  {
   "cell_type": "code",
   "execution_count": 2,
   "id": "19ffe202-5d4b-47b6-8399-0943bda45e83",
   "metadata": {
    "executionInfo": {
     "elapsed": 91,
     "status": "ok",
     "timestamp": 1759636442197,
     "user": {
      "displayName": "Faizan Ahmad",
      "userId": "08973409244589919533"
     },
     "user_tz": -300
    },
    "id": "19ffe202-5d4b-47b6-8399-0943bda45e83"
   },
   "outputs": [],
   "source": [
    "#reading dataset\n",
    "df = pd.read_csv('netflix_titles.csv')"
   ]
  },
  {
   "cell_type": "code",
   "execution_count": null,
   "id": "bec00fad-8293-4e58-936f-e2e5fd35df1d",
   "metadata": {
    "id": "bec00fad-8293-4e58-936f-e2e5fd35df1d"
   },
   "outputs": [],
   "source": [
    "#choosing model\n",
    "model = SentenceTransformer('all-MiniLM-L6-v2')"
   ]
  },
  {
   "cell_type": "code",
   "execution_count": 4,
   "id": "91f2cf73-6804-4e59-9783-039b97cd65c4",
   "metadata": {
    "executionInfo": {
     "elapsed": 26,
     "status": "ok",
     "timestamp": 1759636449075,
     "user": {
      "displayName": "Faizan Ahmad",
      "userId": "08973409244589919533"
     },
     "user_tz": -300
    },
    "id": "91f2cf73-6804-4e59-9783-039b97cd65c4"
   },
   "outputs": [],
   "source": [
    "#creating function to convert each row into a single string\n",
    "def create_textual_representation(row):\n",
    "    textual_representation=f\"\"\"Type:{row['type']},\n",
    "Title:{row['title']},\n",
    "Cast:{row['cast']},\n",
    "Release:{row['release_year']},\n",
    "Director:{row['director']},\n",
    "Genres:{row['listed_in']},\n",
    "Description:{row['description']}\"\"\"\n",
    "    return textual_representation"
   ]
  },
  {
   "cell_type": "code",
   "execution_count": 5,
   "id": "0d603a9d-6338-46fd-85a0-d561647bcefd",
   "metadata": {
    "executionInfo": {
     "elapsed": 260,
     "status": "ok",
     "timestamp": 1759636451085,
     "user": {
      "displayName": "Faizan Ahmad",
      "userId": "08973409244589919533"
     },
     "user_tz": -300
    },
    "id": "0d603a9d-6338-46fd-85a0-d561647bcefd"
   },
   "outputs": [],
   "source": [
    "#adding extra column for each row string\n",
    "df['textual_representation']=df.apply(create_textual_representation,axis=1)"
   ]
  },
  {
   "cell_type": "code",
   "execution_count": 18,
   "id": "fb9734a3-ef81-412e-9f3b-5af933b5967b",
   "metadata": {
    "executionInfo": {
     "elapsed": 6,
     "status": "ok",
     "timestamp": 1759637256137,
     "user": {
      "displayName": "Faizan Ahmad",
      "userId": "08973409244589919533"
     },
     "user_tz": -300
    },
    "id": "fb9734a3-ef81-412e-9f3b-5af933b5967b"
   },
   "outputs": [],
   "source": [
    "#more imports and choosing output dimensions\n",
    "import faiss\n",
    "import requests\n",
    "import numpy as np\n",
    "dim=384"
   ]
  },
  {
   "cell_type": "code",
   "execution_count": 20,
   "id": "af1f7476-962f-4de7-8e0e-201ba7c5183f",
   "metadata": {
    "executionInfo": {
     "elapsed": 17,
     "status": "ok",
     "timestamp": 1759637260540,
     "user": {
      "displayName": "Faizan Ahmad",
      "userId": "08973409244589919533"
     },
     "user_tz": -300
    },
    "id": "af1f7476-962f-4de7-8e0e-201ba7c5183f"
   },
   "outputs": [],
   "source": [
    "#initializing faiss database\n",
    "index=faiss.IndexFlatL2(dim)\n",
    "X=np.zeros((len(df['textual_representation']),dim),dtype='float32')"
   ]
  },
  {
   "cell_type": "code",
   "execution_count": null,
   "id": "23fe2feb",
   "metadata": {
    "id": "23fe2feb"
   },
   "outputs": [],
   "source": [
    "#embedding each row and adding to faiss database\n",
    "for i, representation in enumerate(df['textual_representation']):\n",
    "    if i % 10 == 0:\n",
    "        print('Processed', str(i), 'instance')\n",
    "\n",
    "    # Replaces the Ollama API call:\n",
    "    embedding = model.encode(representation, normalize_embeddings=True)\n",
    "\n",
    "    X[i] = np.array(embedding)\n",
    "index.add(X)"
   ]
  },
  {
   "cell_type": "code",
   "execution_count": 22,
   "id": "3e97ec43-5246-4646-a1c7-f29d65aa1470",
   "metadata": {
    "executionInfo": {
     "elapsed": 22,
     "status": "ok",
     "timestamp": 1759637939072,
     "user": {
      "displayName": "Faizan Ahmad",
      "userId": "08973409244589919533"
     },
     "user_tz": -300
    },
    "id": "3e97ec43-5246-4646-a1c7-f29d65aa1470"
   },
   "outputs": [],
   "source": [
    "#creating the index file\n",
    "faiss.write_index(index,'index')"
   ]
  },
  {
   "cell_type": "code",
   "execution_count": 29,
   "id": "37eaef1a-c8b0-4754-919d-99b7492caf4a",
   "metadata": {
    "executionInfo": {
     "elapsed": 31,
     "status": "ok",
     "timestamp": 1759638267715,
     "user": {
      "displayName": "Faizan Ahmad",
      "userId": "08973409244589919533"
     },
     "user_tz": -300
    },
    "id": "37eaef1a-c8b0-4754-919d-99b7492caf4a"
   },
   "outputs": [],
   "source": [
    "#reading from the newly created index file\n",
    "index=faiss.read_index('index')"
   ]
  },
  {
   "cell_type": "code",
   "execution_count": null,
   "id": "jod_-_zXnusK",
   "metadata": {
    "id": "jod_-_zXnusK"
   },
   "outputs": [],
   "source": [
    "#creating a movie string which isn't listed in the dataset\n",
    "favourite_movie=\"\"\"Type:Movie,\n",
    "Title:The Prestige,\n",
    "Cast:Christian Bale, Hugh Jackman, Scarlett Johansson,\n",
    "Director:Christopher Nolan,\n",
    "Genres:Drama, Mystery, Thriller, Sci-Fi,\n",
    "Description:Two rival magicians in 19th-century London engage in a bitter competition to create the ultimate illusion, pushing each other to the edge of obsession and sacrifice.\"\"\"\n",
    "favourite_movie"
   ]
  },
  {
   "cell_type": "code",
   "execution_count": null,
   "id": "dCoYewVJ-ile",
   "metadata": {
    "id": "dCoYewVJ-ile"
   },
   "outputs": [],
   "source": [
    "#for testing purposes run this cell block and enter your own movie/show details\n",
    "Type=\"Type:\"+input(\"Type (ie Movie/Show )\")\n",
    "Title=\",\\nTitle:\"+input(\"Title (ie The Godfather Part II)\")\n",
    "Cast=\",\\nCast:\"+input(\"Cast (ie Christian Bale, Hugh Jackman, Scarlett Johansson)\")\n",
    "Director=\",\\nDirector:\"+input(\"Director (ie Christopher Nolan)\")\n",
    "Genres=\",\\nGenres:\"+input(\"Genre (ie Drama, Mystery, Thriller, Sci-Fi)\")\n",
    "Description=\",\\nDescription:\"+input(\"Description (ie Two rival magicians in 19th-century London engage in a...)\")\n",
    "favourite_movie= Type + Title + Cast + Director + Genres + Description\n",
    "favourite_movie"
   ]
  },
  {
   "cell_type": "code",
   "execution_count": 56,
   "id": "BHsnXJIwnugz",
   "metadata": {
    "executionInfo": {
     "elapsed": 69,
     "status": "ok",
     "timestamp": 1759641146946,
     "user": {
      "displayName": "Faizan Ahmad",
      "userId": "08973409244589919533"
     },
     "user_tz": -300
    },
    "id": "BHsnXJIwnugz"
   },
   "outputs": [],
   "source": [
    "#converted to embedding\n",
    "embedding = np.array(model.encode(favourite_movie, normalize_embeddings=True)).astype('float32')"
   ]
  },
  {
   "cell_type": "code",
   "execution_count": 57,
   "id": "v0whFbjynuSu",
   "metadata": {
    "executionInfo": {
     "elapsed": 4,
     "status": "ok",
     "timestamp": 1759641147869,
     "user": {
      "displayName": "Faizan Ahmad",
      "userId": "08973409244589919533"
     },
     "user_tz": -300
    },
    "id": "v0whFbjynuSu"
   },
   "outputs": [],
   "source": [
    "embedding = embedding.reshape(1, dim)"
   ]
  },
  {
   "cell_type": "code",
   "execution_count": 58,
   "id": "Y76TTgNQnuGP",
   "metadata": {
    "executionInfo": {
     "elapsed": 48,
     "status": "ok",
     "timestamp": 1759641148647,
     "user": {
      "displayName": "Faizan Ahmad",
      "userId": "08973409244589919533"
     },
     "user_tz": -300
    },
    "id": "Y76TTgNQnuGP"
   },
   "outputs": [],
   "source": [
    "k = 5  # number of nearest neighbors\n",
    "distances, indices = index.search(embedding, k)\n"
   ]
  },
  {
   "cell_type": "code",
   "execution_count": null,
   "id": "D_XP2AaJp8tM",
   "metadata": {
    "id": "D_XP2AaJp8tM"
   },
   "outputs": [],
   "source": [
    "#top similar movies/shows\n",
    "print(\"Top similar movies to: The Prestige\")\n",
    "for idx, dist in zip(indices[0], distances[0]):\n",
    "    print('________________________________________________________________________________________')\n",
    "    print(f\"- {df['textual_representation'].iloc[idx]} (distance: {dist:.4f})\")\n"
   ]
  },
  {
   "cell_type": "code",
   "execution_count": null,
   "id": "67d3da11",
   "metadata": {},
   "outputs": [],
   "source": [
    "import gradio as gr\n",
    "\n",
    "# Example: suppose you have a function like this\n",
    "def process_input(text):\n",
    "    # replace with your actual code logic\n",
    "    return \"Result: \" + text.upper()\n",
    "\n",
    "# Create the Gradio interface\n",
    "ui = gr.Interface(\n",
    "    fn=process_input,\n",
    "    inputs=gr.Textbox(label=\"Enter your text\"),\n",
    "    outputs=gr.Textbox(label=\"Processed Result\"),\n",
    "    title=\"My ML Project\",\n",
    "    description=\"A simple Gradio app that processes your input and returns a result.\"\n",
    ")\n",
    "\n",
    "ui.launch()\n"
   ]
  }
 ],
 "metadata": {
  "colab": {
   "provenance": []
  },
  "kernelspec": {
   "display_name": "Python 3",
   "language": "python",
   "name": "python3"
  },
  "language_info": {
   "codemirror_mode": {
    "name": "ipython",
    "version": 3
   },
   "file_extension": ".py",
   "mimetype": "text/x-python",
   "name": "python",
   "nbconvert_exporter": "python",
   "pygments_lexer": "ipython3",
   "version": "3.13.7"
  }
 },
 "nbformat": 4,
 "nbformat_minor": 5
}
